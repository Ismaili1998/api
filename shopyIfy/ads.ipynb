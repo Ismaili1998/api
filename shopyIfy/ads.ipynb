{
 "cells": [
  {
   "cell_type": "code",
   "execution_count": 2,
   "metadata": {},
   "outputs": [],
   "source": [
    "import requests\n",
    "access_token = \"\"\n",
    "def get_json_response(url):\n",
    "    headers = {\"Authorization\": \"Bearer {}\".format(access_token)}\n",
    "    response = requests.request(\"GET\", url, headers=headers)\n",
    "    if response.status_code != 200:\n",
    "        raise Exception(response.status_code, response.text)\n",
    "    return response.json()"
   ]
  },
  {
   "cell_type": "code",
   "execution_count": 13,
   "metadata": {},
   "outputs": [],
   "source": [
    "url = \"https://graph.facebook.com/v18.0/ads_archive?ad_reached_countries=['MA']&search_terms=phone&ad_active_status=active&languages=['ar']\"\n",
    "response = get_json_response(url)"
   ]
  },
  {
   "cell_type": "code",
   "execution_count": 14,
   "metadata": {},
   "outputs": [
    {
     "data": {
      "text/plain": [
       "[{'page_id': '505992806138474',\n",
       "  'ad_snapshot_url': 'https://www.facebook.com/ads/archive/render_ad/?id=386102060505222&access_token',\n",
       "  'ad_delivery_start_time': '2023-12-14',\n",
       "  'id': '386102060505222'},\n",
       " {'page_id': '100370772700189',\n",
       "  'ad_snapshot_url': 'https://www.facebook.com/ads/archive/render_ad/?id=2002062570161580&access_token',\n",
       "  'ad_delivery_start_time': '2023-12-13',\n",
       "  'id': '2002062570161580'},\n",
       " {'page_id': '100452462952719',\n",
       "  'ad_snapshot_url': 'https://www.facebook.com/ads/archive/render_ad/?id=348627024532696&access_token',\n",
       "  'ad_delivery_start_time': '2023-12-10',\n",
       "  'id': '348627024532696'},\n",
       " {'page_id': '100452462952719',\n",
       "  'ad_snapshot_url': 'https://www.facebook.com/ads/archive/render_ad/?id=368908359123543&access_token',\n",
       "  'ad_delivery_start_time': '2023-12-10',\n",
       "  'id': '368908359123543'},\n",
       " {'page_id': '100452462952719',\n",
       "  'ad_snapshot_url': 'https://www.facebook.com/ads/archive/render_ad/?id=740604940733153&access_token',\n",
       "  'ad_delivery_start_time': '2023-12-10',\n",
       "  'id': '740604940733153'},\n",
       " {'page_id': '100452462952719',\n",
       "  'ad_snapshot_url': 'https://www.facebook.com/ads/archive/render_ad/?id=304901619193387&access_token',\n",
       "  'ad_delivery_start_time': '2023-12-10',\n",
       "  'id': '304901619193387'},\n",
       " {'page_id': '100452462952719',\n",
       "  'ad_snapshot_url': 'https://www.facebook.com/ads/archive/render_ad/?id=375456925039168&access_token',\n",
       "  'ad_delivery_start_time': '2023-12-10',\n",
       "  'id': '375456925039168'},\n",
       " {'page_id': '100452462952719',\n",
       "  'ad_snapshot_url': 'https://www.facebook.com/ads/archive/render_ad/?id=899027451568868&access_token',\n",
       "  'ad_delivery_start_time': '2023-12-10',\n",
       "  'id': '899027451568868'},\n",
       " {'page_id': '100452462952719',\n",
       "  'ad_snapshot_url': 'https://www.facebook.com/ads/archive/render_ad/?id=1846813445750312&access_token',\n",
       "  'ad_delivery_start_time': '2023-12-10',\n",
       "  'id': '1846813445750312'},\n",
       " {'page_id': '100452462952719',\n",
       "  'ad_snapshot_url': 'https://www.facebook.com/ads/archive/render_ad/?id=2685994278233448&access_token',\n",
       "  'ad_delivery_start_time': '2023-12-10',\n",
       "  'id': '2685994278233448'},\n",
       " {'page_id': '100452462952719',\n",
       "  'ad_snapshot_url': 'https://www.facebook.com/ads/archive/render_ad/?id=314543898068704&access_token',\n",
       "  'ad_delivery_start_time': '2023-12-10',\n",
       "  'id': '314543898068704'},\n",
       " {'page_id': '100452462952719',\n",
       "  'ad_snapshot_url': 'https://www.facebook.com/ads/archive/render_ad/?id=341394548613330&access_token',\n",
       "  'ad_delivery_start_time': '2023-12-10',\n",
       "  'id': '341394548613330'},\n",
       " {'page_id': '100452462952719',\n",
       "  'ad_snapshot_url': 'https://www.facebook.com/ads/archive/render_ad/?id=879208440280925&access_token',\n",
       "  'ad_delivery_start_time': '2023-12-10',\n",
       "  'id': '879208440280925'},\n",
       " {'page_id': '100452462952719',\n",
       "  'ad_snapshot_url': 'https://www.facebook.com/ads/archive/render_ad/?id=1005270523870547&access_token',\n",
       "  'ad_delivery_start_time': '2023-12-10',\n",
       "  'id': '1005270523870547'},\n",
       " {'page_id': '100452462952719',\n",
       "  'ad_snapshot_url': 'https://www.facebook.com/ads/archive/render_ad/?id=7004494542951098&access_token',\n",
       "  'ad_delivery_start_time': '2023-12-10',\n",
       "  'id': '7004494542951098'},\n",
       " {'page_id': '100452462952719',\n",
       "  'ad_snapshot_url': 'https://www.facebook.com/ads/archive/render_ad/?id=357470226871048&access_token',\n",
       "  'ad_delivery_start_time': '2023-12-10',\n",
       "  'id': '357470226871048'},\n",
       " {'page_id': '100452462952719',\n",
       "  'ad_snapshot_url': 'https://www.facebook.com/ads/archive/render_ad/?id=969406751269920&access_token',\n",
       "  'ad_delivery_start_time': '2023-12-10',\n",
       "  'id': '969406751269920'},\n",
       " {'page_id': '100452462952719',\n",
       "  'ad_snapshot_url': 'https://www.facebook.com/ads/archive/render_ad/?id=369925062350743&access_token',\n",
       "  'ad_delivery_start_time': '2023-12-10',\n",
       "  'id': '369925062350743'},\n",
       " {'page_id': '100452462952719',\n",
       "  'ad_snapshot_url': 'https://www.facebook.com/ads/archive/render_ad/?id=738543020946143&access_token',\n",
       "  'ad_delivery_start_time': '2023-12-10',\n",
       "  'id': '738543020946143'},\n",
       " {'page_id': '102220952773012',\n",
       "  'ad_snapshot_url': 'https://www.facebook.com/ads/archive/render_ad/?id=328994336574862&access_token',\n",
       "  'ad_delivery_start_time': '2023-12-10',\n",
       "  'id': '328994336574862'},\n",
       " {'page_id': '102220952773012',\n",
       "  'ad_snapshot_url': 'https://www.facebook.com/ads/archive/render_ad/?id=1106954924002928&access_token',\n",
       "  'ad_delivery_start_time': '2023-12-10',\n",
       "  'id': '1106954924002928'},\n",
       " {'page_id': '102220952773012',\n",
       "  'ad_snapshot_url': 'https://www.facebook.com/ads/archive/render_ad/?id=1772991489884912&access_token',\n",
       "  'ad_delivery_start_time': '2023-12-10',\n",
       "  'id': '1772991489884912'},\n",
       " {'page_id': '102220952773012',\n",
       "  'ad_snapshot_url': 'https://www.facebook.com/ads/archive/render_ad/?id=2145557075806074&access_token',\n",
       "  'ad_delivery_start_time': '2023-12-10',\n",
       "  'id': '2145557075806074'},\n",
       " {'page_id': '102220952773012',\n",
       "  'ad_snapshot_url': 'https://www.facebook.com/ads/archive/render_ad/?id=326868943627053&access_token',\n",
       "  'ad_delivery_start_time': '2023-12-10',\n",
       "  'id': '326868943627053'},\n",
       " {'page_id': '102220952773012',\n",
       "  'ad_snapshot_url': 'https://www.facebook.com/ads/archive/render_ad/?id=888760582575757&access_token',\n",
       "  'ad_delivery_start_time': '2023-12-10',\n",
       "  'id': '888760582575757'}]"
      ]
     },
     "execution_count": 14,
     "metadata": {},
     "output_type": "execute_result"
    }
   ],
   "source": [
    "response['data']"
   ]
  },
  {
   "cell_type": "code",
   "execution_count": 15,
   "metadata": {},
   "outputs": [],
   "source": [
    "link = response['data'][1]['ad_snapshot_url'] + \"=\" + access_token"
   ]
  },
  {
   "cell_type": "code",
   "execution_count": 16,
   "metadata": {},
   "outputs": [
    {
     "data": {
      "text/plain": [
       "'https://www.facebook.com/ads/archive/render_ad/?id=2002062570161580&access_token=EAAPcmUNlxYYBO10c3E1NgL5AmBjRYe8zTnkEn9OkZB9FAxvZAlJAwMGZB2D10j3UmBiuQmjvi6pZCpJeYbZADV6Nt6m8uz0sfi1eOXnjjaUOpfl20MoiV5VQm2fm8OXJ6Qk82coU9tZBT090M129jLvOJxAiYskkHfvNb1asfskCEFZBPFZAgiCSoIFKy4K2Cgua415tEB3Q1op9LEv6ZA0rpipevJbv64VvxNiuC8y01hHpJCuwlU6XWZAPbcLiziLAcdxjhHk3iuBPaE'"
      ]
     },
     "execution_count": 16,
     "metadata": {},
     "output_type": "execute_result"
    }
   ],
   "source": [
    "link"
   ]
  },
  {
   "cell_type": "code",
   "execution_count": 11,
   "metadata": {},
   "outputs": [],
   "source": [
    "# Info ciblé: Download video, engagment, duplication, l'age cible, j'aime "
   ]
  },
  {
   "cell_type": "code",
   "execution_count": 12,
   "metadata": {},
   "outputs": [],
   "source": [
    "# Track store sales "
   ]
  },
  {
   "cell_type": "code",
   "execution_count": 9,
   "metadata": {},
   "outputs": [
    {
     "name": "stdout",
     "output_type": "stream",
     "text": [
      "30-Day Challenge\n",
      "Sponsored\n",
      "Library ID: 141694372370704\n",
      "Open Drop-down\n",
      "You don't need a personal trainer with this program 💃\n",
      "Create the body you dream of 💪\n",
      "VERV.HEALTH\n",
      "Download for free\n",
      "Learn More\n"
     ]
    }
   ],
   "source": [
    "# Importing necessary modules\n",
    "from selenium import webdriver\n",
    "from selenium.webdriver.common.by import By\n",
    "import time\n",
    " \n",
    "# WebDriver Chrome\n",
    "driver = webdriver.Chrome()\n",
    " \n",
    "# Target URL\n",
    "driver.get(link)\n",
    "# To load entire webpage\n",
    "time.sleep(5)\n",
    " \n",
    "# Printing the whole body text\n",
    "print(driver.find_element(By.XPATH, \"/html/body\").text)\n",
    " \n",
    "# Closing the driver\n",
    "driver.close()"
   ]
  },
  {
   "cell_type": "code",
   "execution_count": 115,
   "metadata": {},
   "outputs": [
    {
     "ename": "AttributeError",
     "evalue": "'dict' object has no attribute 'data'",
     "output_type": "error",
     "traceback": [
      "\u001b[1;31m---------------------------------------------------------------------------\u001b[0m",
      "\u001b[1;31mAttributeError\u001b[0m                            Traceback (most recent call last)",
      "Cell \u001b[1;32mIn[115], line 1\u001b[0m\n\u001b[1;32m----> 1\u001b[0m \u001b[43mresponse\u001b[49m\u001b[38;5;241;43m.\u001b[39;49m\u001b[43mdata\u001b[49m\n",
      "\u001b[1;31mAttributeError\u001b[0m: 'dict' object has no attribute 'data'"
     ]
    }
   ],
   "source": [
    "response.data"
   ]
  },
  {
   "cell_type": "code",
   "execution_count": 55,
   "metadata": {},
   "outputs": [
    {
     "ename": "NameError",
     "evalue": "name 'pd' is not defined",
     "output_type": "error",
     "traceback": [
      "\u001b[1;31m---------------------------------------------------------------------------\u001b[0m",
      "\u001b[1;31mNameError\u001b[0m                                 Traceback (most recent call last)",
      "Cell \u001b[1;32mIn[55], line 2\u001b[0m\n\u001b[0;32m      1\u001b[0m \u001b[38;5;66;03m#Make an empty Pandas dataframe, append new data onto it.\u001b[39;00m\n\u001b[1;32m----> 2\u001b[0m ads_df \u001b[38;5;241m=\u001b[39m \u001b[43mpd\u001b[49m\u001b[38;5;241m.\u001b[39mDataFrame()\n",
      "\u001b[1;31mNameError\u001b[0m: name 'pd' is not defined"
     ]
    }
   ],
   "source": [
    "#Make an empty Pandas dataframe, append new data onto it.\n",
    "ads_df = pd.DataFrame()"
   ]
  }
 ],
 "metadata": {
  "kernelspec": {
   "display_name": "Python 3",
   "language": "python",
   "name": "python3"
  },
  "language_info": {
   "codemirror_mode": {
    "name": "ipython",
    "version": 3
   },
   "file_extension": ".py",
   "mimetype": "text/x-python",
   "name": "python",
   "nbconvert_exporter": "python",
   "pygments_lexer": "ipython3",
   "version": "3.9.11"
  }
 },
 "nbformat": 4,
 "nbformat_minor": 2
}
